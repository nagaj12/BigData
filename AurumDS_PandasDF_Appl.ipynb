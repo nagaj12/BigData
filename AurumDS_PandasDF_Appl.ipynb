{
 "cells": [
  {
   "cell_type": "code",
   "execution_count": 50,
   "metadata": {},
   "outputs": [
    {
     "data": {
      "text/plain": [
       "Index(['UNIQUE KEY', 'DATE', 'TIME', 'BOROUGH', 'ZIP CODE', 'LATITUDE',\n",
       "       'LONGITUDE', 'LOCATION', 'ON STREET NAME', 'CROSS STREET NAME',\n",
       "       'OFF STREET NAME', 'PERSONS INJURED', 'PERSONS KILLED',\n",
       "       'PEDESTRIANS INJURED', 'PEDESTRIANS KILLED', 'CYCLISTS INJURED',\n",
       "       'CYCLISTS KILLED', 'MOTORISTS INJURED', 'MOTORISTS KILLED',\n",
       "       'VEHICLE 1 TYPE', 'VEHICLE 2 TYPE', 'VEHICLE 3 TYPE', 'VEHICLE 4 TYPE',\n",
       "       'VEHICLE 5 TYPE', 'VEHICLE 1 FACTOR', 'VEHICLE 2 FACTOR',\n",
       "       'VEHICLE 3 FACTOR', 'VEHICLE 4 FACTOR', 'VEHICLE 5 FACTOR'],\n",
       "      dtype='object')"
      ]
     },
     "execution_count": 50,
     "metadata": {},
     "output_type": "execute_result"
    }
   ],
   "source": [
    "## Sample application to analyze Ney York collision Data (downloaded from Kaggle)\n",
    "## Using pandas Data Frames and plots (For Aurum Data Solutions.)\n",
    "%matplotlib inline\n",
    "import sys\n",
    "import datetime\n",
    "import numpy as np\n",
    "import pandas as pd\n",
    "import matplotlib.pyplot as plt\n",
    "\n",
    "## Load the Raw date of New York Collision data CSV file downloaded from Kaggle.\n",
    "nyCollisionRawData = pd.read_csv('C:/Users/nagaj/Desktop/AurumDS/NY_Vehicle_CollisionData.csv',parse_dates=True)\n",
    "nyCollisionRawData.columns"
   ]
  },
  {
   "cell_type": "code",
   "execution_count": 51,
   "metadata": {},
   "outputs": [
    {
     "data": {
      "text/plain": [
       "UNIQUE KEY             477732\n",
       "DATE                   477732\n",
       "BOROUGH                338390\n",
       "ZIP CODE               338329\n",
       "PERSONS INJURED        477732\n",
       "PERSONS KILLED         477732\n",
       "PEDESTRIANS INJURED    477732\n",
       "PEDESTRIANS KILLED     477732\n",
       "CYCLISTS INJURED       477732\n",
       "CYCLISTS KILLED        477732\n",
       "MOTORISTS INJURED      477732\n",
       "MOTORISTS KILLED       477732\n",
       "VEHICLE 1 TYPE         473777\n",
       "VEHICLE 2 TYPE         396795\n",
       "VEHICLE 1 FACTOR       474483\n",
       "dtype: int64"
      ]
     },
     "execution_count": 51,
     "metadata": {},
     "output_type": "execute_result"
    }
   ],
   "source": [
    "#Eliminate unnecessary columns from the data set.\n",
    "nyCollisionDataRqCols = nyCollisionRawData.drop(['TIME','LATITUDE', 'LONGITUDE','LOCATION','ON STREET NAME',\n",
    "                                                 'CROSS STREET NAME','OFF STREET NAME','VEHICLE 3 TYPE',\n",
    "                                                 'VEHICLE 4 TYPE','VEHICLE 5 TYPE','VEHICLE 2 FACTOR', \n",
    "                                                 'VEHICLE 3 FACTOR','VEHICLE 4 FACTOR','VEHICLE 5 FACTOR'], \n",
    "                                                axis=1)\n",
    "nyCollisionDataRqCols.count()"
   ]
  },
  {
   "cell_type": "code",
   "execution_count": 52,
   "metadata": {},
   "outputs": [
    {
     "data": {
      "text/plain": [
       "UNIQUE KEY             279228\n",
       "DATE                   279228\n",
       "BOROUGH                279228\n",
       "ZIP CODE               279228\n",
       "PERSONS INJURED        279228\n",
       "PERSONS KILLED         279228\n",
       "PEDESTRIANS INJURED    279228\n",
       "PEDESTRIANS KILLED     279228\n",
       "CYCLISTS INJURED       279228\n",
       "CYCLISTS KILLED        279228\n",
       "MOTORISTS INJURED      279228\n",
       "MOTORISTS KILLED       279228\n",
       "VEHICLE 1 TYPE         279228\n",
       "VEHICLE 2 TYPE         279228\n",
       "VEHICLE 1 FACTOR       279228\n",
       "dtype: int64"
      ]
     },
     "execution_count": 52,
     "metadata": {},
     "output_type": "execute_result"
    }
   ],
   "source": [
    "#Remove null values from all columns - Filling with default value is not suitable here.\n",
    "nyCollisionDataFinal = pd.DataFrame(nyCollisionDataRqCols.dropna())\n",
    "##nyCollisionDataFinal.to_csv('C:/Users/nagaj/Desktop/AurumDS/NY_Vehicle_CollisionData_Final.csv')\n",
    "nyCollisionDataFinal.count()"
   ]
  },
  {
   "cell_type": "code",
   "execution_count": 71,
   "metadata": {},
   "outputs": [
    {
     "data": {
      "text/plain": [
       "<matplotlib.axes._subplots.AxesSubplot at 0x14249fa2348>"
      ]
     },
     "execution_count": 71,
     "metadata": {},
     "output_type": "execute_result"
    },
    {
     "data": {
      "image/png": "[encoded data removed]",
      "text/plain": [
       "<Figure size 432x288 with 1 Axes>"
      ]
     },
     "metadata": {
      "needs_background": "light"
     },
     "output_type": "display_data"
    }
   ],
   "source": [
    "## Prepare analysis of each year for # of collisions, persons injured and persons killed.\n",
    "nyCollisionDataFinal['DATE'] = pd.to_datetime(nyCollisionDataFinal['DATE'])\n",
    "nyCollisionDataFinal['YEAR'] = nyCollisionDataFinal['DATE'].dt.year\n",
    "collisionDetailsByYear = nyCollisionDataFinal.groupby('YEAR')\n",
    "collisionDetailsByYear['MOTORISTS KILLED'].sum().plot(kind='bar')\n",
    "\n",
    "## Analysis  "
   ]
  },
  {
   "cell_type": "code",
   "execution_count": 73,
   "metadata": {},
   "outputs": [
    {
     "data": {
      "text/plain": [
       "<matplotlib.axes._subplots.AxesSubplot at 0x1424b8ca1c8>"
      ]
     },
     "execution_count": 73,
     "metadata": {},
     "output_type": "execute_result"
    },
    {
     "data": {
      "image/png": "[encoded data removed]",
      "text/plain": [
       "<Figure size 432x288 with 1 Axes>"
      ]
     },
     "metadata": {
      "needs_background": "light"
     },
     "output_type": "display_data"
    }
   ],
   "source": [
    "## Prepare analysis of each month (regardless of year) \n",
    "## for number of collisions, persons injured and persons killed.\n",
    "nyCollisionDataFinal['MONTH'] = nyCollisionDataFinal['DATE'].dt.month\n",
    "collisionDetailsByYear = nyCollisionDataFinal.groupby('MONTH')\n",
    "collisionDetailsByYear['MOTORISTS KILLED'].sum().plot(kind='bar')"
   ]
  },
  {
   "cell_type": "code",
   "execution_count": null,
   "metadata": {},
   "outputs": [],
   "source": []
  }
 ],
 "metadata": {
  "kernelspec": {
   "display_name": "Python 3",
   "language": "python",
   "name": "python3"
  },
  "language_info": {
   "codemirror_mode": {
    "name": "ipython",
    "version": 3
   },
   "file_extension": ".py",
   "mimetype": "text/x-python",
   "name": "python",
   "nbconvert_exporter": "python",
   "pygments_lexer": "ipython3",
   "version": "3.7.4"
  }
 },
 "nbformat": 4,
 "nbformat_minor": 2
}
