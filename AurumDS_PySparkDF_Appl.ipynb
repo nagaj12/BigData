{
 "cells": [
  {
   "cell_type": "code",
   "execution_count": 2,
   "metadata": {},
   "outputs": [
    {
     "name": "stdout",
     "output_type": "stream",
     "text": [
      "+-------+--------+--------+--------+--------+--------+\n",
      "|summary|    Open|    High|     Low|   Close|  Volume|\n",
      "+-------+--------+--------+--------+--------+--------+\n",
      "|  count|1,258.00|1,258.00|1,258.00|1,258.00|    1258|\n",
      "|   mean|   72.36|   72.84|   71.92|   72.39| 8222093|\n",
      "| stddev|    6.77|    6.77|    6.74|    6.76| 4519780|\n",
      "|    min|   56.39|   57.06|   56.30|   56.42| 2094900|\n",
      "|    max|   90.80|   90.97|   89.25|   90.47|80898100|\n",
      "+-------+--------+--------+--------+--------+--------+\n",
      "\n"
     ]
    }
   ],
   "source": [
    "## Sample application using Python/PySpark, Data Frames \n",
    "## Spark SQL on Sample stock_sales date set.\n",
    " \n",
    "import findspark\n",
    "findspark.init()\n",
    "\n",
    "import pyspark\n",
    "from pyspark.sql import SparkSession\n",
    "from pyspark.sql.functions import (format_number, mean, max,min, \n",
    "                                   corr, year, month, count)\n",
    "from pyspark.sql.types import (StructField, StringType,\n",
    "                               IntegerType, StructType)\n",
    "\n",
    "## Create Spark Session\n",
    "sparkSession = SparkSession.builder.appName('AurumApplication').getOrCreate()\n",
    "\n",
    "## Load the input CSV file into Data Frame\n",
    "stockSalesDF = sparkSession.read.csv('C:/Users/nagaj/Desktop/AurumDS/stock_sales.csv', inferSchema=True, header=True)\n",
    "\n",
    "## Describe the Stock Sales date set - in proper format\n",
    "descStockSalesDF = stockSalesDF.describe()\n",
    "descStockSalesDF.select(descStockSalesDF['summary'],\n",
    "              format_number(descStockSalesDF['Open'].cast('float'),2).alias('Open'),\n",
    "              format_number(descStockSalesDF['High'].cast('float'),2).alias('High'),\n",
    "              format_number(descStockSalesDF['Low'].cast('float'),2).alias('Low'),\n",
    "              format_number(descStockSalesDF['Close'].cast('float'),2).alias('Close'),\n",
    "              descStockSalesDF['Volume'].cast('int').alias('Volume')\n",
    "             ).show()\n",
    "\n"
   ]
  },
  {
   "cell_type": "code",
   "execution_count": 6,
   "metadata": {},
   "outputs": [
    {
     "name": "stdout",
     "output_type": "stream",
     "text": [
      "+--------------------+\n",
      "|High vs Volume ratio|\n",
      "+--------------------+\n",
      "|4.819714653321546E-6|\n",
      "|6.290848613094555E-6|\n",
      "|4.669412994783916E-6|\n",
      "|7.367338463826307E-6|\n",
      "|8.915604778943901E-6|\n",
      "|8.644477436914568E-6|\n",
      "|9.351828421515645E-6|\n",
      "| 8.29141562102703E-6|\n",
      "|7.712212102001476E-6|\n",
      "|7.071764823529412E-6|\n",
      "|1.015495466386981E-5|\n",
      "|6.576354146362592...|\n",
      "| 5.90145296180676E-6|\n",
      "|8.547679455011844E-6|\n",
      "|8.420709512685392E-6|\n",
      "|1.041448341728929...|\n",
      "|8.316075414862431E-6|\n",
      "|9.721183814992126E-6|\n",
      "|8.029436027707578E-6|\n",
      "|6.307432259386365E-6|\n",
      "+--------------------+\n",
      "only showing top 20 rows\n",
      "\n"
     ]
    }
   ],
   "source": [
    "## Calculate High Price versus Volume ratio of stock traded for each day.\n",
    "stockSalesDF.select((stockSalesDF[\"High\"]/stockSalesDF[\"Volume\"]).alias('High vs Volume ratio')).show()"
   ]
  },
  {
   "cell_type": "code",
   "execution_count": 7,
   "metadata": {},
   "outputs": [
    {
     "name": "stdout",
     "output_type": "stream",
     "text": [
      "Row(Date=datetime.datetime(2015, 1, 13, 0, 0), Open=90.800003, High=90.970001, Low=88.93, Close=89.309998, Volume=8215400, Adj Close=83.825448)\n"
     ]
    }
   ],
   "source": [
    "## Find highest stock sale price record...\n",
    "highPriceRecord = stockSalesDF.orderBy(stockSalesDF[\"High\"].desc()).head(1)[0]\n",
    "print(highPriceRecord)"
   ]
  },
  {
   "cell_type": "code",
   "execution_count": 8,
   "metadata": {},
   "outputs": [
    {
     "name": "stdout",
     "output_type": "stream",
     "text": [
      "+-----------------+\n",
      "|     Average High|\n",
      "+-----------------+\n",
      "|72.83938807631165|\n",
      "+-----------------+\n",
      "\n"
     ]
    }
   ],
   "source": [
    "## Overall average of High price\n",
    "stockSalesDF.select(mean(\"High\").alias('Average High')).show()"
   ]
  },
  {
   "cell_type": "code",
   "execution_count": 9,
   "metadata": {},
   "outputs": [
    {
     "name": "stdout",
     "output_type": "stream",
     "text": [
      "+-------------+------------+\n",
      "|Over all High|Over all Low|\n",
      "+-------------+------------+\n",
      "|    90.970001|   56.299999|\n",
      "+-------------+------------+\n",
      "\n"
     ]
    }
   ],
   "source": [
    "## Over all Maximum price and Minimum price.\n",
    "stockSalesDF.select(max(\"High\").alias('Over all High'),min(\"Low\").alias('Over all Low')).show()"
   ]
  },
  {
   "cell_type": "code",
   "execution_count": 113,
   "metadata": {},
   "outputs": [
    {
     "name": "stdout",
     "output_type": "stream",
     "text": [
      "+-------------------------------+\n",
      "|No. of days Close more than $60|\n",
      "+-------------------------------+\n",
      "|                           1177|\n",
      "+-------------------------------+\n",
      "\n"
     ]
    }
   ],
   "source": [
    "## How many days sales 'Close' is more than $60\n",
    "stockSalesDF.filter(stockSalesDF['Close'] > 60).select(count('Close').alias('No. of days Close more than $60')).show()"
   ]
  },
  {
   "cell_type": "code",
   "execution_count": 117,
   "metadata": {},
   "outputs": [
    {
     "data": {
      "text/plain": [
       "9.141494435612083"
      ]
     },
     "execution_count": 117,
     "metadata": {},
     "output_type": "execute_result"
    }
   ],
   "source": [
    "## Find % of the time was the High greater than 80 dollars\n",
    "(stockSalesDF.filter(stockSalesDF[\"High\"]>80).count()*1.0/stockSalesDF.count())*100"
   ]
  },
  {
   "cell_type": "code",
   "execution_count": 10,
   "metadata": {},
   "outputs": [
    {
     "name": "stdout",
     "output_type": "stream",
     "text": [
      "+-----------------------------------+\n",
      "|Correlation between High and Volume|\n",
      "+-----------------------------------+\n",
      "|                -0.3384326061737161|\n",
      "+-----------------------------------+\n",
      "\n"
     ]
    }
   ],
   "source": [
    "## Correlation between High and Volume\n",
    "stockSalesDF.select(corr(\"High\",\"Volume\").alias(\"Correlation between High and Volume\")).show()"
   ]
  },
  {
   "cell_type": "code",
   "execution_count": 11,
   "metadata": {},
   "outputs": [
    {
     "name": "stdout",
     "output_type": "stream",
     "text": [
      "+----+---------+\n",
      "|Year|max(High)|\n",
      "+----+---------+\n",
      "|2015|90.970001|\n",
      "|2013|81.370003|\n",
      "|2014|88.089996|\n",
      "|2012|77.599998|\n",
      "|2016|75.190002|\n",
      "+----+---------+\n",
      "\n"
     ]
    }
   ],
   "source": [
    "## Find max High per year\n",
    "stockSalesPerYear = stockSalesDF.withColumn(\"Year\",year(stockSalesDF[\"Date\"]))\n",
    "maxStockSalesYear = stockSalesPerYear.groupBy('Year').max()\n",
    "maxStockSalesYear.select('Year','max(High)').show()"
   ]
  },
  {
   "cell_type": "code",
   "execution_count": 12,
   "metadata": {},
   "outputs": [
    {
     "name": "stdout",
     "output_type": "stream",
     "text": [
      "+-----+-----------------+\n",
      "|Month|       avg(Close)|\n",
      "+-----+-----------------+\n",
      "|    1|71.44801958415842|\n",
      "|    2|  71.306804443299|\n",
      "|    3|71.77794377570092|\n",
      "|    4|72.97361900952382|\n",
      "|    5|72.30971688679247|\n",
      "|    6| 72.4953774245283|\n",
      "|    7|74.43971943925233|\n",
      "|    8|73.02981855454546|\n",
      "|    9|72.18411785294116|\n",
      "|   10|71.57854545454543|\n",
      "|   11| 72.1110893069307|\n",
      "|   12|72.84792478301885|\n",
      "+-----+-----------------+\n",
      "\n"
     ]
    }
   ],
   "source": [
    "## Calculating average Close for each month.\n",
    "monthCol = stockSalesDF.withColumn(\"Month\",month(\"Date\"))\n",
    "monthSalesAvg = monthCol.select(\"Month\",\"Close\").groupBy(\"Month\").mean()\n",
    "monthSalesAvg.select(\"Month\",\"avg(Close)\").orderBy('Month').show()"
   ]
  },
  {
   "cell_type": "code",
   "execution_count": null,
   "metadata": {},
   "outputs": [],
   "source": []
  }
 ],
 "metadata": {
  "kernelspec": {
   "display_name": "Python 3",
   "language": "python",
   "name": "python3"
  },
  "language_info": {
   "codemirror_mode": {
    "name": "ipython",
    "version": 3
   },
   "file_extension": ".py",
   "mimetype": "text/x-python",
   "name": "python",
   "nbconvert_exporter": "python",
   "pygments_lexer": "ipython3",
   "version": "3.7.4"
  }
 },
 "nbformat": 4,
 "nbformat_minor": 2
}
